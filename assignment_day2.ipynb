{
 "cells": [
  {
   "cell_type": "markdown",
   "id": "1030117a",
   "metadata": {},
   "source": [
    "Project: Data Minining Project for X company"
   ]
  },
  {
   "cell_type": "code",
   "execution_count": null,
   "id": "866df3bb",
   "metadata": {},
   "outputs": [],
   "source": []
  },
  {
   "cell_type": "markdown",
   "id": "3f55d97b",
   "metadata": {},
   "source": [
    "The CRISP-DM Framework\n",
    "\n",
    "The CRISP-DM methodology provides a structured approach to planning a data mining project. It is a robust and well-proven methodology.\n",
    "\n",
    "Business understanding (BU): Determine Business Objectives, Assess Situation, Determine Data Mining Goals, Produce Project Plan\n",
    "\n",
    "Data understanding (DU): Collect Initial Data, Describe Data, Explore Data, Verify Data Quality\n",
    "\n",
    "Data preparation (DP): Select Data, Clean Data, Construct Data, Integrate Data\n",
    "\n",
    "Modeling (M): Select modeling technique, Generate Test Design, Build Model, Assess Model\n",
    "\n",
    "Evaluation (E): Evaluate Results, Review Process, Determine Next Steps\n",
    "\n",
    "Deployment (D): Plan Deployment, Plan Monitoring and Maintenance, Produce Final Report, Review Project\n",
    "\n",
    "References:\n",
    "\n",
    "What is the CRISP-DM methodology?\n",
    "\n",
    "Introduction to CRISP DM Framework for Data Science and Machine Learning"
   ]
  },
  {
   "cell_type": "markdown",
   "id": "2f3664dd",
   "metadata": {},
   "source": [
    "## Data set"
   ]
  },
  {
   "cell_type": "markdown",
   "id": "a8965e98",
   "metadata": {},
   "source": [
    "The data is for company X which is trying to control attrition.\n",
    "There are two sets of data: \"Existing employees\" and \"Employees who have left\". The following attributes are available for every employee.\n",
    "Satisfaction Level\n",
    "\n",
    "Last evaluation\n",
    "\n",
    "Number of projects\n",
    "\n",
    "Average monthly hours\n",
    "\n",
    "Time spent at the company\n",
    "\n",
    "Whether they have had a work accident\n",
    "\n",
    "Whether they have had a promotion in the last 5 years\n",
    "Departments (column sales)\n",
    "Salary\n",
    "Whether the employee has left"
   ]
  },
  {
   "cell_type": "code",
   "execution_count": null,
   "id": "13600a59",
   "metadata": {},
   "outputs": [],
   "source": []
  },
  {
   "cell_type": "markdown",
   "id": "796dd70b",
   "metadata": {},
   "source": [
    "**Your Role**\n",
    " \n",
    "\n",
    "*   As data science team member X company asked you to answer this two questions.\n",
    "*  What type of employees is leaving? \n",
    "\n",
    "*   Determine which employees are prone to leave next."
   ]
  },
  {
   "cell_type": "markdown",
   "id": "edfccac0",
   "metadata": {},
   "source": [
    "Business Understanding\n",
    "\n",
    "---\n",
    "\n",
    "This step mostly focuses on understanding the Business in all the different aspects. It follows the below different steps.\n",
    "\n",
    "\n",
    "\n",
    "\n",
    "* Identify the goal and frame the business problem.\n",
    "* Prepare Analytical Goal i.e. what type of performance metric and loss function to use\n",
    "* Gather information on resource, constraints, assumptions, risks etc\n",
    "* Gather information on resource, constraints, assumptions, risks etc\n",
    "*   Prepare Work Flow Chart"
   ]
  },
  {
   "cell_type": "markdown",
   "id": "0550f797",
   "metadata": {},
   "source": [
    "### Write the main objectives of this project in your words?\n",
    "minimum of 100 characters"
   ]
  },
  {
   "cell_type": "code",
   "execution_count": 2,
   "id": "581eca3f",
   "metadata": {},
   "outputs": [],
   "source": [
    "main_objectives ='''The main objective of this project is to identify, with the attributes of the data that we have the type of \n",
    "customers that are prone to leave the company X. This classification will problem, with the attributes, will help us to identify\n",
    "what makes an employee to leave, and what metrics the basis is on. This consequently can help the company to decide on what \n",
    "aspects they can improve in. we can also be able to predict if an employee will stay in the company or not.\n",
    "'''\n"
   ]
  },
  {
   "cell_type": "code",
   "execution_count": 3,
   "id": "ed5260f7",
   "metadata": {},
   "outputs": [],
   "source": [
    "assert len(main_objectives) > 100 \n",
    "### BEGIN HIDDEN TESTS\n",
    "assert len(main_objectives) > 80 \n",
    "### END HIDDEN TESTS"
   ]
  },
  {
   "cell_type": "markdown",
   "id": "f40c33c4",
   "metadata": {},
   "source": [
    "### Outline the different data analysis steps you will follow to carry out the project"
   ]
  },
  {
   "cell_type": "code",
   "execution_count": 4,
   "id": "34d162e3",
   "metadata": {},
   "outputs": [],
   "source": [
    "dm_outline = '''In this project, I will begin by first preparing the data that is presented, after understanding the nature\n",
    "of the problem that we have. After that I will get to preprocess the data to its requires shape and prepare it for the modelling\n",
    "by dealing with the missing data and labelling it accordingly. I will also shuffle the data so that it is not biased. After \n",
    "this I will divide the data into train test and validation. I will then use my train data to create a model that will help in the\n",
    "best model and in the best algorithm that is needed for model. After this I will test the model. \n",
    "I will then measure the score of the data using the test data to know what is the score of the model in orediction. \n",
    "At the end I will ensure that the audience to which the data is presented to accepts the report which is presented to them after \n",
    "analysis and this is a measure of if the project of the analysis is succesful. \n",
    "'''"
   ]
  },
  {
   "cell_type": "code",
   "execution_count": 5,
   "id": "7eb8d0b9",
   "metadata": {},
   "outputs": [],
   "source": [
    "assert len(dm_outline) > 100 \n",
    "### BEGIN HIDDEN TESTS\n",
    "assert len(dm_outline) > 70 \n",
    "### END HIDDEN TESTS"
   ]
  },
  {
   "cell_type": "markdown",
   "id": "fad88857",
   "metadata": {},
   "source": [
    "## What kind of challenges do you expect in your analysis?"
   ]
  },
  {
   "cell_type": "markdown",
   "id": "f55110f8",
   "metadata": {},
   "source": [
    "list at least 3 challanges"
   ]
  },
  {
   "cell_type": "code",
   "execution_count": null,
   "id": "82d4742f",
   "metadata": {},
   "outputs": [],
   "source": [
    "challenge_text = '''\n",
    "1. I expect that I will encounter the first problem in the data that we need for the data analysis. The data may not be accurate,\n",
    "or it may not be enough and useful in the analysis, or even the data may not be useful and a realtime data for that matter\n",
    "hence this is a challange in the whole process of the data analysis. \n",
    "2. The other challange may also be in the value and the quality of the data we will have. \n",
    "3. accesibility of the data could be a challange as the data that is in twitter could not be easily accesible due to things \n",
    "like the api keys. \n",
    "4. The clarity of the data could raise a challange ot our analysis process as well.\n",
    "'''"
   ]
  },
  {
   "cell_type": "markdown",
   "id": "10ddc8db",
   "metadata": {},
   "source": [
    "# Using the processed twitter data from yesterday's challenge\n",
    ".\n",
    "Form a new data frame (named cleanTweet), containing columns $\\textbf{clean-text}$ and $\\textbf{polarity}$.\n",
    "\n",
    "Write a function text_category that takes a value p and returns, depending on the value of p, a string 'positive', 'negative' or 'neutral'.\n",
    "\n",
    "Apply this function (text_category) on the $\\textbf{polarity}$ column of cleanTweet in 1 above to form a new column called $\\textbf{score}$ in cleanTweet.\n",
    "\n",
    "Visualize The $\\textbf{score}$ column using piechart and barchart\n",
    "\n",
    "Now we want to build a classification model on the clean tweet following the steps below:\n",
    "Remove rows from cleanTweet where $\\textbf{polarity}$ $= 0$ (i.e where $\\textbf{score}$ = Neutral) and reset the frame index.\n",
    "Construct a column $\\textbf{scoremap}$ Use the mapping {'positive':1, 'negative':0} on the $\\textbf{score}$ column\n",
    "Create feature and target variables (X,y) from $\\textbf{clean-text}$ and $\\textbf{scoremap}$ columns respectively.\n",
    "Use train_test_split function to construct (X_train, y_train) and (X_test, y_test) from (X,y)\n",
    "\n",
    "Build an SGDClassifier model from the vectorize train text data. Use CountVectorizer() with a $\\textit{trigram}$ parameter.\n",
    "\n",
    "Evaluate your model on the test data."
   ]
  },
  {
   "cell_type": "code",
   "execution_count": 1,
   "id": "e11279e4",
   "metadata": {},
   "outputs": [],
   "source": [
    "# import all the necesary packages that we need for this task\n",
    "\n",
    "import pandas as pd\n",
    "import matplotlib.pyplot as plt\n",
    "from sklearn.model_selection import train_test_split\n",
    "\n",
    "from sklearn.linear_model import SGDClassifier\n",
    "from sklearn.feature_extraction.text import CountVectorizer\n",
    "from sklearn.metrics import accuracy_score\n",
    "from sklearn. metrics import classification_report\n",
    "from sklearn.metrics import confusion_matrix\n",
    "from sklearn.pipeline import Pipeline\n",
    "from sklearn.feature_extraction.text import TfidfTransformer"
   ]
  },
  {
   "cell_type": "code",
   "execution_count": 2,
   "id": "b7490096",
   "metadata": {},
   "outputs": [],
   "source": [
    "# the function for text_categoty\n",
    "\n",
    "def text_category(p):\n",
    "    if p > 0:\n",
    "        return 'positive'\n",
    "    elif p < 0:\n",
    "        return 'negative'\n",
    "    else:\n",
    "        return 'neutral'\n",
    "    "
   ]
  },
  {
   "cell_type": "code",
   "execution_count": 5,
   "id": "8532f16f",
   "metadata": {},
   "outputs": [
    {
     "data": {
      "text/plain": [
       "0       0.166667\n",
       "1       0.133333\n",
       "2       0.316667\n",
       "3       0.086111\n",
       "4       0.280000\n",
       "          ...   \n",
       "6527    0.000000\n",
       "6528    0.086111\n",
       "6529    0.000000\n",
       "6530    0.125000\n",
       "6531    0.000000\n",
       "Name: polarity, Length: 6532, dtype: float64"
      ]
     },
     "execution_count": 5,
     "metadata": {},
     "output_type": "execute_result"
    }
   ],
   "source": [
    "# polarity\n",
    "\n",
    "file_name = 'data/clean_tweet.csv'\n",
    "df = pd.read_csv(file_name)\n",
    "\n",
    "# see polarity\n",
    "df['polarity']\n",
    "\n",
    "# see polarity\n",
    "df['polarity']"
   ]
  },
  {
   "cell_type": "code",
   "execution_count": 7,
   "id": "f02bbaa9",
   "metadata": {},
   "outputs": [
    {
     "data": {
      "text/plain": [
       "2812"
      ]
     },
     "execution_count": 7,
     "metadata": {},
     "output_type": "execute_result"
    }
   ],
   "source": [
    "# application of the function\n",
    "cleanTweets = df[['original_text', 'polarity']].rename({'original_text': 'clean_text'}, axis=1)\n",
    "cleanTweets.head()\n",
    "cleanTweets['clean_text'].isnull().sum()"
   ]
  },
  {
   "cell_type": "code",
   "execution_count": 11,
   "id": "e1b93aee",
   "metadata": {},
   "outputs": [
    {
     "data": {
      "text/plain": [
       "neutral     3178\n",
       "positive    2786\n",
       "negative     568\n",
       "Name: score, dtype: int64"
      ]
     },
     "execution_count": 11,
     "metadata": {},
     "output_type": "execute_result"
    }
   ],
   "source": [
    "# form a colum of score by applying the polarity\n",
    "\n",
    "cleanTweets['score'] = cleanTweets[\"polarity\"].map(text_category)\n",
    "cleanTweets['score'].value_counts()"
   ]
  },
  {
   "cell_type": "code",
   "execution_count": 12,
   "id": "e1a0f340",
   "metadata": {},
   "outputs": [
    {
     "data": {
      "text/html": [
       "<div>\n",
       "<style scoped>\n",
       "    .dataframe tbody tr th:only-of-type {\n",
       "        vertical-align: middle;\n",
       "    }\n",
       "\n",
       "    .dataframe tbody tr th {\n",
       "        vertical-align: top;\n",
       "    }\n",
       "\n",
       "    .dataframe thead th {\n",
       "        text-align: right;\n",
       "    }\n",
       "</style>\n",
       "<table border=\"1\" class=\"dataframe\">\n",
       "  <thead>\n",
       "    <tr style=\"text-align: right;\">\n",
       "      <th></th>\n",
       "      <th>clean_text</th>\n",
       "      <th>polarity</th>\n",
       "      <th>score</th>\n",
       "    </tr>\n",
       "  </thead>\n",
       "  <tbody>\n",
       "    <tr>\n",
       "      <th>0</th>\n",
       "      <td>🚨Africa is \"in the midst of a full-blown third...</td>\n",
       "      <td>0.166667</td>\n",
       "      <td>positive</td>\n",
       "    </tr>\n",
       "    <tr>\n",
       "      <th>1</th>\n",
       "      <td>Dr Moeti is head of WHO in Africa, and one of ...</td>\n",
       "      <td>0.133333</td>\n",
       "      <td>positive</td>\n",
       "    </tr>\n",
       "    <tr>\n",
       "      <th>2</th>\n",
       "      <td>Thank you @research2note for creating this ama...</td>\n",
       "      <td>0.316667</td>\n",
       "      <td>positive</td>\n",
       "    </tr>\n",
       "    <tr>\n",
       "      <th>3</th>\n",
       "      <td>Former Pfizer VP and Virologist, Dr. Michael Y...</td>\n",
       "      <td>0.086111</td>\n",
       "      <td>positive</td>\n",
       "    </tr>\n",
       "    <tr>\n",
       "      <th>4</th>\n",
       "      <td>I think it’s important that we don’t sell COVA...</td>\n",
       "      <td>0.280000</td>\n",
       "      <td>positive</td>\n",
       "    </tr>\n",
       "  </tbody>\n",
       "</table>\n",
       "</div>"
      ],
      "text/plain": [
       "                                          clean_text  polarity     score\n",
       "0  🚨Africa is \"in the midst of a full-blown third...  0.166667  positive\n",
       "1  Dr Moeti is head of WHO in Africa, and one of ...  0.133333  positive\n",
       "2  Thank you @research2note for creating this ama...  0.316667  positive\n",
       "3  Former Pfizer VP and Virologist, Dr. Michael Y...  0.086111  positive\n",
       "4  I think it’s important that we don’t sell COVA...  0.280000  positive"
      ]
     },
     "execution_count": 12,
     "metadata": {},
     "output_type": "execute_result"
    }
   ],
   "source": [
    "cleanTweets.head()"
   ]
  },
  {
   "cell_type": "code",
   "execution_count": null,
   "id": "eef4b5eb",
   "metadata": {},
   "outputs": [],
   "source": []
  },
  {
   "cell_type": "code",
   "execution_count": null,
   "id": "4d0fd8c2",
   "metadata": {},
   "outputs": [],
   "source": []
  },
  {
   "cell_type": "markdown",
   "id": "ea1895ef",
   "metadata": {},
   "source": [
    "### What metrics will you use to measure the performance of your data analysis model? \n",
    "Write the equations of the metrics here"
   ]
  },
  {
   "cell_type": "markdown",
   "id": "b08aae23",
   "metadata": {},
   "source": [
    "I will use the accuracy score to see the level of accuracy, that my model is able to score. with this:\n",
    "    The accuracy can be defined as the percentage of correctly \n",
    "    classified instances (TP + TN)/(TP + TN + FP + FN). where TP, FN, FP and TN represent the number of true positives, \n",
    "    false negatives, false positives and true negatives, respectively(References\n",
    "Sulayman, N. (2020, November 24).\n",
    "How can I calculate the accuracy? ResearchGate. https://www.researchgate.net/post/How_can_I_calculate_the_accuracy)"
   ]
  },
  {
   "cell_type": "markdown",
   "id": "eea20c72",
   "metadata": {},
   "source": [
    "Why do you choose these metrics? minimum of 100 characters"
   ]
  },
  {
   "cell_type": "code",
   "execution_count": 7,
   "id": "cf43eadc",
   "metadata": {},
   "outputs": [],
   "source": [
    "why_metrics = '''Because my problem statement is a case that is related to classsification of wheather an employee will leave \n",
    "the company or stay, we want to make sure that we are able to classify correclty. This we will need to see how accurate the \n",
    "model will score based on the data that is available for hte test. This is also because there will be need to know how many \n",
    "prediction we got correctly, thus the essence of the metric measurement chosen. \n",
    "'''"
   ]
  },
  {
   "cell_type": "code",
   "execution_count": 8,
   "id": "779b4056",
   "metadata": {},
   "outputs": [],
   "source": [
    "assert len(why_metrics) > 100 \n",
    "### BEGIN HIDDEN TESTS\n",
    "assert len(why_metrics) > 80 \n",
    "### END HIDDEN TESTS"
   ]
  },
  {
   "cell_type": "markdown",
   "id": "3234581d",
   "metadata": {},
   "source": [
    "## How would you know if your data analysis work is a success or not?"
   ]
  },
  {
   "cell_type": "code",
   "execution_count": 9,
   "id": "29d68a34",
   "metadata": {},
   "outputs": [],
   "source": [
    "how_success = '''With the metric measurement that we have used above, we are able to identify the score of accuracy that the \n",
    "model has. A successful model is one that will score high in the accuracy of the prediction. We are thus able to identify that \n",
    "there is a success if we are able to predict above 90% correctly. This is done by the test data that we had ealier. Hence, we \n",
    "can say that we are succesful when our accuracy score is high.\n",
    "'''"
   ]
  },
  {
   "cell_type": "code",
   "execution_count": 10,
   "id": "664e7a36",
   "metadata": {},
   "outputs": [],
   "source": [
    "assert len(how_success) > 100 \n",
    "### BEGIN HIDDEN TESTS\n",
    "assert len(how_success) > 80 \n",
    "### END HIDDEN TESTS"
   ]
  },
  {
   "cell_type": "code",
   "execution_count": 16,
   "id": "9c64ea94",
   "metadata": {},
   "outputs": [
    {
     "data": {
      "text/plain": [
       "<AxesSubplot:title={'center':'Score'}>"
      ]
     },
     "execution_count": 16,
     "metadata": {},
     "output_type": "execute_result"
    },
    {
     "data": {
      "image/png": "[encoded data removed]",
      "text/plain": [
       "<Figure size 864x864 with 1 Axes>"
      ]
     },
     "metadata": {
      "needs_background": "light"
     },
     "output_type": "display_data"
    }
   ],
   "source": [
    "# visualizing using barchart\n",
    "score_count = cleanTweets['score'].value_counts()\n",
    "score_count.plot(kind=\"bar\", y=\"score\", title=\"Score\", figsize=[12, 12])"
   ]
  },
  {
   "cell_type": "code",
   "execution_count": 19,
   "id": "ce44ee65",
   "metadata": {},
   "outputs": [
    {
     "data": {
      "text/plain": [
       "<AxesSubplot:title={'center':'Score'}, ylabel='score'>"
      ]
     },
     "execution_count": 19,
     "metadata": {},
     "output_type": "execute_result"
    },
    {
     "data": {
      "image/png": "[encoded data removed]",
      "text/plain": [
       "<Figure size 864x864 with 1 Axes>"
      ]
     },
     "metadata": {},
     "output_type": "display_data"
    }
   ],
   "source": [
    "# visualizing with PieChart\n",
    "score_count = cleanTweets['score'].value_counts()\n",
    "score_count.plot(kind=\"pie\", y=\"score\", title=\"Score\", figsize=[12, 12])"
   ]
  },
  {
   "cell_type": "code",
   "execution_count": 20,
   "id": "26c21e9e",
   "metadata": {},
   "outputs": [
    {
     "data": {
      "text/html": [
       "<div>\n",
       "<style scoped>\n",
       "    .dataframe tbody tr th:only-of-type {\n",
       "        vertical-align: middle;\n",
       "    }\n",
       "\n",
       "    .dataframe tbody tr th {\n",
       "        vertical-align: top;\n",
       "    }\n",
       "\n",
       "    .dataframe thead th {\n",
       "        text-align: right;\n",
       "    }\n",
       "</style>\n",
       "<table border=\"1\" class=\"dataframe\">\n",
       "  <thead>\n",
       "    <tr style=\"text-align: right;\">\n",
       "      <th></th>\n",
       "      <th>clean_text</th>\n",
       "      <th>polarity</th>\n",
       "      <th>score</th>\n",
       "    </tr>\n",
       "  </thead>\n",
       "  <tbody>\n",
       "    <tr>\n",
       "      <th>0</th>\n",
       "      <td>🚨Africa is \"in the midst of a full-blown third...</td>\n",
       "      <td>0.166667</td>\n",
       "      <td>positive</td>\n",
       "    </tr>\n",
       "    <tr>\n",
       "      <th>1</th>\n",
       "      <td>Dr Moeti is head of WHO in Africa, and one of ...</td>\n",
       "      <td>0.133333</td>\n",
       "      <td>positive</td>\n",
       "    </tr>\n",
       "    <tr>\n",
       "      <th>2</th>\n",
       "      <td>Thank you @research2note for creating this ama...</td>\n",
       "      <td>0.316667</td>\n",
       "      <td>positive</td>\n",
       "    </tr>\n",
       "    <tr>\n",
       "      <th>3</th>\n",
       "      <td>Former Pfizer VP and Virologist, Dr. Michael Y...</td>\n",
       "      <td>0.086111</td>\n",
       "      <td>positive</td>\n",
       "    </tr>\n",
       "    <tr>\n",
       "      <th>4</th>\n",
       "      <td>I think it’s important that we don’t sell COVA...</td>\n",
       "      <td>0.280000</td>\n",
       "      <td>positive</td>\n",
       "    </tr>\n",
       "  </tbody>\n",
       "</table>\n",
       "</div>"
      ],
      "text/plain": [
       "                                          clean_text  polarity     score\n",
       "0  🚨Africa is \"in the midst of a full-blown third...  0.166667  positive\n",
       "1  Dr Moeti is head of WHO in Africa, and one of ...  0.133333  positive\n",
       "2  Thank you @research2note for creating this ama...  0.316667  positive\n",
       "3  Former Pfizer VP and Virologist, Dr. Michael Y...  0.086111  positive\n",
       "4  I think it’s important that we don’t sell COVA...  0.280000  positive"
      ]
     },
     "execution_count": 20,
     "metadata": {},
     "output_type": "execute_result"
    }
   ],
   "source": [
    "#Remove rows from cleanTweets where the score is neutral\n",
    "cleanTweets = cleanTweets[cleanTweets['polarity'] != 0]\n",
    "\n",
    "# reset frame index\n",
    "cleanTweets.reset_index(drop=True, inplace=True)\n",
    "cleanTweets.head()"
   ]
  },
  {
   "cell_type": "code",
   "execution_count": 21,
   "id": "747eb48e",
   "metadata": {},
   "outputs": [
    {
     "data": {
      "text/plain": [
       "1    2786\n",
       "0     568\n",
       "Name: scoremap, dtype: int64"
      ]
     },
     "execution_count": 21,
     "metadata": {},
     "output_type": "execute_result"
    }
   ],
   "source": [
    "# A column  𝐬𝐜𝐨𝐫𝐞𝐦𝐚𝐩  Use the mapping {'positive':1, 'negative':0} on the  𝐬𝐜𝐨𝐫𝐞  column\n",
    "def get_score(value):\n",
    "    return 1 if (value == 'positive') else 0\n",
    "\n",
    "cleanTweets['scoremap'] = cleanTweets['score'].map(get_score)\n",
    "cleanTweets.head()\n",
    "cleanTweets['scoremap'].value_counts()"
   ]
  },
  {
   "cell_type": "code",
   "execution_count": 22,
   "id": "c6f46afc",
   "metadata": {},
   "outputs": [],
   "source": [
    "# Create feature and target variables (X,y) from  𝐜𝐥𝐞𝐚𝐧-𝐭𝐞𝐱𝐭  and  𝐬𝐜𝐨𝐫𝐞𝐦𝐚𝐩  columns respectively.\n",
    "X = cleanTweets['clean_text']\n",
    "y = cleanTweets['scoremap']"
   ]
  },
  {
   "cell_type": "code",
   "execution_count": 23,
   "id": "07cd9d95",
   "metadata": {},
   "outputs": [],
   "source": [
    "x_train, x_test, y_train, y_test = train_test_split(X, y)"
   ]
  },
  {
   "cell_type": "code",
   "execution_count": 24,
   "id": "67709c91",
   "metadata": {},
   "outputs": [
    {
     "data": {
      "text/plain": [
       "<2515x16224 sparse matrix of type '<class 'numpy.int64'>'\n",
       "\twith 97503 stored elements in Compressed Sparse Row format>"
      ]
     },
     "execution_count": 24,
     "metadata": {},
     "output_type": "execute_result"
    }
   ],
   "source": [
    "cv = CountVectorizer(ngram_range=(3, 3))\n",
    "X_train_cv = cv.fit_transform(x_train)\n",
    "X_test_cv = cv.transform(x_test)\n",
    "X_train_cv"
   ]
  },
  {
   "cell_type": "code",
   "execution_count": 25,
   "id": "88d1aed3",
   "metadata": {},
   "outputs": [],
   "source": [
    "clf = SGDClassifier()\n",
    "clf.fit(X_train_cv, y_train)\n",
    "predictions = clf.predict(X_test_cv)"
   ]
  },
  {
   "cell_type": "code",
   "execution_count": 26,
   "id": "d9f3cc1f",
   "metadata": {},
   "outputs": [
    {
     "data": {
      "text/plain": [
       "array([[124,  16],\n",
       "       [  0, 699]], dtype=int64)"
      ]
     },
     "execution_count": 26,
     "metadata": {},
     "output_type": "execute_result"
    }
   ],
   "source": [
    "results = confusion_matrix(y_test, predictions) \n",
    "results"
   ]
  },
  {
   "cell_type": "code",
   "execution_count": 27,
   "id": "d1c45bd4",
   "metadata": {},
   "outputs": [
    {
     "data": {
      "text/plain": [
       "0.9809296781883194"
      ]
     },
     "execution_count": 27,
     "metadata": {},
     "output_type": "execute_result"
    }
   ],
   "source": [
    "accuracy_score(y_test, predictions)\n"
   ]
  },
  {
   "cell_type": "code",
   "execution_count": 28,
   "id": "1e88ef4e",
   "metadata": {},
   "outputs": [
    {
     "name": "stdout",
     "output_type": "stream",
     "text": [
      "              precision    recall  f1-score   support\n",
      "\n",
      "           0       1.00      0.89      0.94       140\n",
      "           1       0.98      1.00      0.99       699\n",
      "\n",
      "    accuracy                           0.98       839\n",
      "   macro avg       0.99      0.94      0.96       839\n",
      "weighted avg       0.98      0.98      0.98       839\n",
      "\n"
     ]
    }
   ],
   "source": [
    "print(classification_report(y_test, predictions))"
   ]
  },
  {
   "cell_type": "code",
   "execution_count": null,
   "id": "d2e20ded",
   "metadata": {},
   "outputs": [],
   "source": []
  }
 ],
 "metadata": {
  "kernelspec": {
   "display_name": "Python 3",
   "language": "python",
   "name": "python3"
  },
  "language_info": {
   "codemirror_mode": {
    "name": "ipython",
    "version": 3
   },
   "file_extension": ".py",
   "mimetype": "text/x-python",
   "name": "python",
   "nbconvert_exporter": "python",
   "pygments_lexer": "ipython3",
   "version": "3.8.8"
  }
 },
 "nbformat": 4,
 "nbformat_minor": 5
}
